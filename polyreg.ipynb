{
  "cells": [
    {
      "metadata": {
        "trusted": true
      },
      "cell_type": "code",
      "source": "import pandas as pd\nimport numpy as np\nimport matplotlib.pyplot as plt\n\ndataset = pd.read_csv(\"position_salaries.csv\")",
      "execution_count": 1,
      "outputs": []
    },
    {
      "metadata": {
        "trusted": true
      },
      "cell_type": "code",
      "source": "dataset.head()",
      "execution_count": 2,
      "outputs": [
        {
          "output_type": "execute_result",
          "execution_count": 2,
          "data": {
            "text/html": "<div>\n<style scoped>\n    .dataframe tbody tr th:only-of-type {\n        vertical-align: middle;\n    }\n\n    .dataframe tbody tr th {\n        vertical-align: top;\n    }\n\n    .dataframe thead th {\n        text-align: right;\n    }\n</style>\n<table border=\"1\" class=\"dataframe\">\n  <thead>\n    <tr style=\"text-align: right;\">\n      <th></th>\n      <th>Position</th>\n      <th>Level</th>\n      <th>Salary</th>\n    </tr>\n  </thead>\n  <tbody>\n    <tr>\n      <th>0</th>\n      <td>Business Analyst</td>\n      <td>1</td>\n      <td>45000</td>\n    </tr>\n    <tr>\n      <th>1</th>\n      <td>Junior Consultant</td>\n      <td>2</td>\n      <td>50000</td>\n    </tr>\n    <tr>\n      <th>2</th>\n      <td>Senior Consultant</td>\n      <td>3</td>\n      <td>60000</td>\n    </tr>\n    <tr>\n      <th>3</th>\n      <td>Manager</td>\n      <td>4</td>\n      <td>80000</td>\n    </tr>\n    <tr>\n      <th>4</th>\n      <td>Country Manager</td>\n      <td>5</td>\n      <td>110000</td>\n    </tr>\n  </tbody>\n</table>\n</div>",
            "text/plain": "            Position  Level  Salary\n0   Business Analyst      1   45000\n1  Junior Consultant      2   50000\n2  Senior Consultant      3   60000\n3            Manager      4   80000\n4    Country Manager      5  110000"
          },
          "metadata": {}
        }
      ]
    },
    {
      "metadata": {
        "trusted": true
      },
      "cell_type": "code",
      "source": "#dataset = dataset.drop('Level', axis=1)",
      "execution_count": 3,
      "outputs": []
    },
    {
      "metadata": {
        "trusted": true
      },
      "cell_type": "code",
      "source": "dataset.head()",
      "execution_count": 4,
      "outputs": [
        {
          "output_type": "execute_result",
          "execution_count": 4,
          "data": {
            "text/html": "<div>\n<style scoped>\n    .dataframe tbody tr th:only-of-type {\n        vertical-align: middle;\n    }\n\n    .dataframe tbody tr th {\n        vertical-align: top;\n    }\n\n    .dataframe thead th {\n        text-align: right;\n    }\n</style>\n<table border=\"1\" class=\"dataframe\">\n  <thead>\n    <tr style=\"text-align: right;\">\n      <th></th>\n      <th>Position</th>\n      <th>Level</th>\n      <th>Salary</th>\n    </tr>\n  </thead>\n  <tbody>\n    <tr>\n      <th>0</th>\n      <td>Business Analyst</td>\n      <td>1</td>\n      <td>45000</td>\n    </tr>\n    <tr>\n      <th>1</th>\n      <td>Junior Consultant</td>\n      <td>2</td>\n      <td>50000</td>\n    </tr>\n    <tr>\n      <th>2</th>\n      <td>Senior Consultant</td>\n      <td>3</td>\n      <td>60000</td>\n    </tr>\n    <tr>\n      <th>3</th>\n      <td>Manager</td>\n      <td>4</td>\n      <td>80000</td>\n    </tr>\n    <tr>\n      <th>4</th>\n      <td>Country Manager</td>\n      <td>5</td>\n      <td>110000</td>\n    </tr>\n  </tbody>\n</table>\n</div>",
            "text/plain": "            Position  Level  Salary\n0   Business Analyst      1   45000\n1  Junior Consultant      2   50000\n2  Senior Consultant      3   60000\n3            Manager      4   80000\n4    Country Manager      5  110000"
          },
          "metadata": {}
        }
      ]
    },
    {
      "metadata": {
        "trusted": true
      },
      "cell_type": "code",
      "source": "'''from sklearn.preprocessing import LabelEncoder\nle = LabelEncoder()\ndataset['Label'] = le.fit_transform(dataset['Salary'])'''",
      "execution_count": 5,
      "outputs": [
        {
          "output_type": "execute_result",
          "execution_count": 5,
          "data": {
            "text/plain": "\"from sklearn.preprocessing import LabelEncoder\\nle = LabelEncoder()\\ndataset['Label'] = le.fit_transform(dataset['Salary'])\""
          },
          "metadata": {}
        }
      ]
    },
    {
      "metadata": {
        "trusted": true
      },
      "cell_type": "code",
      "source": "dataset",
      "execution_count": 6,
      "outputs": [
        {
          "output_type": "execute_result",
          "execution_count": 6,
          "data": {
            "text/html": "<div>\n<style scoped>\n    .dataframe tbody tr th:only-of-type {\n        vertical-align: middle;\n    }\n\n    .dataframe tbody tr th {\n        vertical-align: top;\n    }\n\n    .dataframe thead th {\n        text-align: right;\n    }\n</style>\n<table border=\"1\" class=\"dataframe\">\n  <thead>\n    <tr style=\"text-align: right;\">\n      <th></th>\n      <th>Position</th>\n      <th>Level</th>\n      <th>Salary</th>\n    </tr>\n  </thead>\n  <tbody>\n    <tr>\n      <th>0</th>\n      <td>Business Analyst</td>\n      <td>1</td>\n      <td>45000</td>\n    </tr>\n    <tr>\n      <th>1</th>\n      <td>Junior Consultant</td>\n      <td>2</td>\n      <td>50000</td>\n    </tr>\n    <tr>\n      <th>2</th>\n      <td>Senior Consultant</td>\n      <td>3</td>\n      <td>60000</td>\n    </tr>\n    <tr>\n      <th>3</th>\n      <td>Manager</td>\n      <td>4</td>\n      <td>80000</td>\n    </tr>\n    <tr>\n      <th>4</th>\n      <td>Country Manager</td>\n      <td>5</td>\n      <td>110000</td>\n    </tr>\n    <tr>\n      <th>5</th>\n      <td>Region Manager</td>\n      <td>6</td>\n      <td>150000</td>\n    </tr>\n    <tr>\n      <th>6</th>\n      <td>Partner</td>\n      <td>7</td>\n      <td>200000</td>\n    </tr>\n    <tr>\n      <th>7</th>\n      <td>Senior Partner</td>\n      <td>8</td>\n      <td>300000</td>\n    </tr>\n    <tr>\n      <th>8</th>\n      <td>C-level</td>\n      <td>9</td>\n      <td>500000</td>\n    </tr>\n    <tr>\n      <th>9</th>\n      <td>CEO</td>\n      <td>10</td>\n      <td>1000000</td>\n    </tr>\n  </tbody>\n</table>\n</div>",
            "text/plain": "            Position  Level   Salary\n0   Business Analyst      1    45000\n1  Junior Consultant      2    50000\n2  Senior Consultant      3    60000\n3            Manager      4    80000\n4    Country Manager      5   110000\n5     Region Manager      6   150000\n6            Partner      7   200000\n7     Senior Partner      8   300000\n8            C-level      9   500000\n9                CEO     10  1000000"
          },
          "metadata": {}
        }
      ]
    },
    {
      "metadata": {
        "trusted": true
      },
      "cell_type": "code",
      "source": "X = dataset.iloc[:, 1:2].values\ny = dataset.iloc[:, 2].values\n",
      "execution_count": 7,
      "outputs": []
    },
    {
      "metadata": {
        "trusted": true
      },
      "cell_type": "code",
      "source": "plt.scatter(dataset['Position'], dataset['Salary'])\nplt.title('Salary based on job position')\nplt.xlabel('Job position')\nplt.ylabel('Salary expected')\nplt.show()",
      "execution_count": 8,
      "outputs": [
        {
          "output_type": "display_data",
          "data": {
            "image/png": "[encoded data removed]",
            "text/plain": "<Figure size 432x288 with 1 Axes>"
          },
          "metadata": {
            "needs_background": "light"
          }
        }
      ]
    },
    {
      "metadata": {
        "trusted": true
      },
      "cell_type": "code",
      "source": "y",
      "execution_count": 9,
      "outputs": [
        {
          "output_type": "execute_result",
          "execution_count": 9,
          "data": {
            "text/plain": "array([  45000,   50000,   60000,   80000,  110000,  150000,  200000,\n        300000,  500000, 1000000])"
          },
          "metadata": {}
        }
      ]
    },
    {
      "metadata": {
        "trusted": true
      },
      "cell_type": "code",
      "source": "X",
      "execution_count": 10,
      "outputs": [
        {
          "output_type": "execute_result",
          "execution_count": 10,
          "data": {
            "text/plain": "array([[ 1],\n       [ 2],\n       [ 3],\n       [ 4],\n       [ 5],\n       [ 6],\n       [ 7],\n       [ 8],\n       [ 9],\n       [10]])"
          },
          "metadata": {}
        }
      ]
    },
    {
      "metadata": {
        "trusted": true
      },
      "cell_type": "code",
      "source": "from sklearn.model_selection import train_test_split\nX_train, X_test, y_train, y_test = train_test_split(X, y, test_size=0.2, random_state=42)",
      "execution_count": 11,
      "outputs": []
    },
    {
      "metadata": {
        "trusted": true
      },
      "cell_type": "code",
      "source": "#Linear Regression\nfrom sklearn.linear_model import LinearRegression\nlinreg = LinearRegression()\nlinreg.fit(X,y)\n\n# Visualizing the Linear Regression results\ndef viz_linear():\n    plt.scatter(X, y, color='red')\n    plt.plot(X, linreg.predict(X), color='blue')\n    plt.title('Truth or Bluff (Linear Regression)')\n    plt.xlabel('Position level')\n    plt.ylabel('Salary')\n    plt.show()\n    return\nviz_linear()",
      "execution_count": 12,
      "outputs": [
        {
          "output_type": "display_data",
          "data": {
            "image/png": "[encoded data removed]",
            "text/plain": "<Figure size 432x288 with 1 Axes>"
          },
          "metadata": {
            "needs_background": "light"
          }
        }
      ]
    },
    {
      "metadata": {
        "trusted": true
      },
      "cell_type": "code",
      "source": "",
      "execution_count": null,
      "outputs": []
    },
    {
      "metadata": {
        "trusted": true
      },
      "cell_type": "code",
      "source": "#Polynomial Regression",
      "execution_count": 13,
      "outputs": []
    },
    {
      "metadata": {
        "trusted": true
      },
      "cell_type": "code",
      "source": "# Fitting Polynomial Regression to the dataset\nfrom sklearn.preprocessing import PolynomialFeatures\npolynom = PolynomialFeatures(degree=4)\npol_reg = LinearRegression()\nX_poly = polynom.fit_transform(X)\npol_reg.fit(X_poly, y)\n\n# Visualizing the Polymonial Regression results\ndef viz_polymonial():\n    plt.scatter(X, y, color='red')\n    plt.plot(X, pol_reg.predict(polynom.fit_transform(X)), color='blue')\n    plt.title('Truth or Bluff (Linear Regression)')\n    plt.xlabel('Position level')\n    plt.ylabel('Salary')\n    plt.show()\n    return\nviz_polymonial()",
      "execution_count": 22,
      "outputs": [
        {
          "output_type": "display_data",
          "data": {
            "image/png": "[encoded data removed]",
            "text/plain": "<Figure size 432x288 with 1 Axes>"
          },
          "metadata": {
            "needs_background": "light"
          }
        }
      ]
    },
    {
      "metadata": {
        "trusted": true
      },
      "cell_type": "code",
      "source": "X_poly",
      "execution_count": 24,
      "outputs": [
        {
          "output_type": "execute_result",
          "execution_count": 24,
          "data": {
            "text/plain": "array([[1.000e+00, 1.000e+00, 1.000e+00, 1.000e+00, 1.000e+00],\n       [1.000e+00, 2.000e+00, 4.000e+00, 8.000e+00, 1.600e+01],\n       [1.000e+00, 3.000e+00, 9.000e+00, 2.700e+01, 8.100e+01],\n       [1.000e+00, 4.000e+00, 1.600e+01, 6.400e+01, 2.560e+02],\n       [1.000e+00, 5.000e+00, 2.500e+01, 1.250e+02, 6.250e+02],\n       [1.000e+00, 6.000e+00, 3.600e+01, 2.160e+02, 1.296e+03],\n       [1.000e+00, 7.000e+00, 4.900e+01, 3.430e+02, 2.401e+03],\n       [1.000e+00, 8.000e+00, 6.400e+01, 5.120e+02, 4.096e+03],\n       [1.000e+00, 9.000e+00, 8.100e+01, 7.290e+02, 6.561e+03],\n       [1.000e+00, 1.000e+01, 1.000e+02, 1.000e+03, 1.000e+04]])"
          },
          "metadata": {}
        }
      ]
    },
    {
      "metadata": {
        "trusted": true
      },
      "cell_type": "code",
      "source": "#Make predictions for someone with a 5.5 Year Experience\n# Predicting a new result with Linear Regression\nlinreg.predict([[5.5]])\n#output should be 249500\n\n",
      "execution_count": 25,
      "outputs": [
        {
          "output_type": "execute_result",
          "execution_count": 25,
          "data": {
            "text/plain": "array([249500.])"
          },
          "metadata": {}
        }
      ]
    },
    {
      "metadata": {
        "trusted": true
      },
      "cell_type": "code",
      "source": "# Predicting a new result with Polymonial Regression\npol_reg.predict(polynom.fit_transform([[5.5]]))\n#output should be 132148.43750003",
      "execution_count": 29,
      "outputs": [
        {
          "output_type": "execute_result",
          "execution_count": 29,
          "data": {
            "text/plain": "array([132148.43750003])"
          },
          "metadata": {}
        }
      ]
    },
    {
      "metadata": {
        "trusted": true
      },
      "cell_type": "code",
      "source": "#Predicting salary from test_dataset\ny_predict_slr = linreg.predict(X_test)\n#Model evaluation using R_square for simple linear regression\nfrom sklearn import metrics\nr_square = metrics.r2_score(y_test, y_predict_slr)\nprint(\"R-square error associated with Simple Linear Reg:\", r_square)",
      "execution_count": 30,
      "outputs": [
        {
          "output_type": "stream",
          "text": "R-square error associated with Simple Linear Reg: 0.9205324717432464\n",
          "name": "stdout"
        }
      ]
    },
    {
      "metadata": {
        "trusted": true
      },
      "cell_type": "code",
      "source": "#Predicting salary from test_dataset\ny_predict_pr = pol_reg.predict(polynom.fit_transform(X_test))\n#Model evaluation using R_square for simple linear regression\nfrom sklearn import metrics\nr_square = metrics.r2_score(y_test, y_predict_pr)\nprint(\"R-square error associated with Polynomial Reg:\", r_square)",
      "execution_count": 31,
      "outputs": [
        {
          "output_type": "stream",
          "text": "R-square error associated with Polynomial Reg: 0.9885818934201032\n",
          "name": "stdout"
        }
      ]
    },
    {
      "metadata": {
        "trusted": true
      },
      "cell_type": "code",
      "source": "",
      "execution_count": null,
      "outputs": []
    }
  ],
  "metadata": {
    "kernelspec": {
      "name": "python36",
      "display_name": "Python 3.6",
      "language": "python"
    },
    "language_info": {
      "mimetype": "text/x-python",
      "nbconvert_exporter": "python",
      "name": "python",
      "pygments_lexer": "ipython3",
      "version": "3.6.6",
      "file_extension": ".py",
      "codemirror_mode": {
        "version": 3,
        "name": "ipython"
      }
    }
  },
  "nbformat": 4,
  "nbformat_minor": 2
}